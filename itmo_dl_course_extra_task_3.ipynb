{
  "nbformat": 4,
  "nbformat_minor": 0,
  "metadata": {
    "colab": {
      "provenance": [],
      "gpuType": "T4",
      "toc_visible": true
    },
    "kernelspec": {
      "name": "python3",
      "display_name": "Python 3"
    },
    "language_info": {
      "name": "python"
    },
    "accelerator": "GPU"
  },
  "cells": [
    {
      "cell_type": "code",
      "source": [
        "%%capture\n",
        "!pip install torchmetrics"
      ],
      "metadata": {
        "id": "138D18U-FIPL"
      },
      "execution_count": 2,
      "outputs": []
    },
    {
      "cell_type": "code",
      "source": [
        "import numpy as np\n",
        "import pandas as pd\n",
        "\n",
        "import torch\n",
        "import torch.nn as nn\n",
        "from torch.utils.data import Dataset, DataLoader\n",
        "from transformers import BertTokenizer\n",
        "\n",
        "from torchmetrics import F1Score\n",
        "\n",
        "import nltk\n",
        "from nltk.probability import FreqDist\n",
        "from nltk.tokenize import word_tokenize\n",
        "\n",
        "from tqdm.notebook import tqdm\n",
        "\n",
        "nltk.download('punkt_tab')\n",
        "\n",
        "import torch.optim as optim\n",
        "from sklearn.model_selection import train_test_split\n",
        "import matplotlib.pyplot as plt\n",
        "import random"
      ],
      "metadata": {
        "colab": {
          "base_uri": "https://localhost:8080/"
        },
        "id": "kCXfoyN3FF3i",
        "outputId": "da78e614-844c-4694-f06b-110e39c2359e"
      },
      "execution_count": 3,
      "outputs": [
        {
          "output_type": "stream",
          "name": "stderr",
          "text": [
            "[nltk_data] Downloading package punkt_tab to /root/nltk_data...\n",
            "[nltk_data]   Package punkt_tab is already up-to-date!\n"
          ]
        }
      ]
    },
    {
      "cell_type": "code",
      "source": [
        "def set_seed(seed_value=42):\n",
        "    random.seed(seed_value)\n",
        "    np.random.seed(seed_value)\n",
        "    torch.manual_seed(seed_value)\n",
        "    torch.cuda.manual_seed(seed_value)\n",
        "    torch.cuda.manual_seed_all(seed_value)\n",
        "    torch.backends.cudnn.deterministic = True\n",
        "    torch.backends.cudnn.benchmark = False\n",
        "\n",
        "set_seed(42)"
      ],
      "metadata": {
        "id": "EBxfewH9HoLB"
      },
      "execution_count": 4,
      "outputs": []
    },
    {
      "cell_type": "markdown",
      "source": [
        "### Дополнительное задание 3 - 5 баллов\n",
        "\n",
        "В этом задании вам предстоит обучить две модели для предсказания рейтинга отзывов об отелях.\n",
        "\n",
        "# 1. Загрузите датасет отзывов - [Trip Advisor Hotel Reviews](https://www.kaggle.com/datasets/andrewmvd/trip-advisor-hotel-reviews)"
      ],
      "metadata": {
        "id": "0pwWeUZ5CY_s"
      }
    },
    {
      "cell_type": "code",
      "source": [
        "df = pd.read_csv(f\"/content/tripadvisor_hotel_reviews.csv\")\n",
        "print(df.shape)\n",
        "df.head()"
      ],
      "metadata": {
        "colab": {
          "base_uri": "https://localhost:8080/",
          "height": 223
        },
        "id": "M594cM-9FnVU",
        "outputId": "3d177e76-af39-4a9a-b602-ce95c887fd8c"
      },
      "execution_count": 5,
      "outputs": [
        {
          "output_type": "stream",
          "name": "stdout",
          "text": [
            "(20491, 2)\n"
          ]
        },
        {
          "output_type": "execute_result",
          "data": {
            "text/plain": [
              "                                              Review  Rating\n",
              "0  nice hotel expensive parking got good deal sta...       4\n",
              "1  ok nothing special charge diamond member hilto...       2\n",
              "2  nice rooms not 4* experience hotel monaco seat...       3\n",
              "3  unique, great stay, wonderful time hotel monac...       5\n",
              "4  great stay great stay, went seahawk game aweso...       5"
            ],
            "text/html": [
              "\n",
              "  <div id=\"df-5d948a2c-f501-42b3-8eb3-3553efbc6f61\" class=\"colab-df-container\">\n",
              "    <div>\n",
              "<style scoped>\n",
              "    .dataframe tbody tr th:only-of-type {\n",
              "        vertical-align: middle;\n",
              "    }\n",
              "\n",
              "    .dataframe tbody tr th {\n",
              "        vertical-align: top;\n",
              "    }\n",
              "\n",
              "    .dataframe thead th {\n",
              "        text-align: right;\n",
              "    }\n",
              "</style>\n",
              "<table border=\"1\" class=\"dataframe\">\n",
              "  <thead>\n",
              "    <tr style=\"text-align: right;\">\n",
              "      <th></th>\n",
              "      <th>Review</th>\n",
              "      <th>Rating</th>\n",
              "    </tr>\n",
              "  </thead>\n",
              "  <tbody>\n",
              "    <tr>\n",
              "      <th>0</th>\n",
              "      <td>nice hotel expensive parking got good deal sta...</td>\n",
              "      <td>4</td>\n",
              "    </tr>\n",
              "    <tr>\n",
              "      <th>1</th>\n",
              "      <td>ok nothing special charge diamond member hilto...</td>\n",
              "      <td>2</td>\n",
              "    </tr>\n",
              "    <tr>\n",
              "      <th>2</th>\n",
              "      <td>nice rooms not 4* experience hotel monaco seat...</td>\n",
              "      <td>3</td>\n",
              "    </tr>\n",
              "    <tr>\n",
              "      <th>3</th>\n",
              "      <td>unique, great stay, wonderful time hotel monac...</td>\n",
              "      <td>5</td>\n",
              "    </tr>\n",
              "    <tr>\n",
              "      <th>4</th>\n",
              "      <td>great stay great stay, went seahawk game aweso...</td>\n",
              "      <td>5</td>\n",
              "    </tr>\n",
              "  </tbody>\n",
              "</table>\n",
              "</div>\n",
              "    <div class=\"colab-df-buttons\">\n",
              "\n",
              "  <div class=\"colab-df-container\">\n",
              "    <button class=\"colab-df-convert\" onclick=\"convertToInteractive('df-5d948a2c-f501-42b3-8eb3-3553efbc6f61')\"\n",
              "            title=\"Convert this dataframe to an interactive table.\"\n",
              "            style=\"display:none;\">\n",
              "\n",
              "  <svg xmlns=\"http://www.w3.org/2000/svg\" height=\"24px\" viewBox=\"0 -960 960 960\">\n",
              "    <path d=\"M120-120v-720h720v720H120Zm60-500h600v-160H180v160Zm220 220h160v-160H400v160Zm0 220h160v-160H400v160ZM180-400h160v-160H180v160Zm440 0h160v-160H620v160ZM180-180h160v-160H180v160Zm440 0h160v-160H620v160Z\"/>\n",
              "  </svg>\n",
              "    </button>\n",
              "\n",
              "  <style>\n",
              "    .colab-df-container {\n",
              "      display:flex;\n",
              "      gap: 12px;\n",
              "    }\n",
              "\n",
              "    .colab-df-convert {\n",
              "      background-color: #E8F0FE;\n",
              "      border: none;\n",
              "      border-radius: 50%;\n",
              "      cursor: pointer;\n",
              "      display: none;\n",
              "      fill: #1967D2;\n",
              "      height: 32px;\n",
              "      padding: 0 0 0 0;\n",
              "      width: 32px;\n",
              "    }\n",
              "\n",
              "    .colab-df-convert:hover {\n",
              "      background-color: #E2EBFA;\n",
              "      box-shadow: 0px 1px 2px rgba(60, 64, 67, 0.3), 0px 1px 3px 1px rgba(60, 64, 67, 0.15);\n",
              "      fill: #174EA6;\n",
              "    }\n",
              "\n",
              "    .colab-df-buttons div {\n",
              "      margin-bottom: 4px;\n",
              "    }\n",
              "\n",
              "    [theme=dark] .colab-df-convert {\n",
              "      background-color: #3B4455;\n",
              "      fill: #D2E3FC;\n",
              "    }\n",
              "\n",
              "    [theme=dark] .colab-df-convert:hover {\n",
              "      background-color: #434B5C;\n",
              "      box-shadow: 0px 1px 3px 1px rgba(0, 0, 0, 0.15);\n",
              "      filter: drop-shadow(0px 1px 2px rgba(0, 0, 0, 0.3));\n",
              "      fill: #FFFFFF;\n",
              "    }\n",
              "  </style>\n",
              "\n",
              "    <script>\n",
              "      const buttonEl =\n",
              "        document.querySelector('#df-5d948a2c-f501-42b3-8eb3-3553efbc6f61 button.colab-df-convert');\n",
              "      buttonEl.style.display =\n",
              "        google.colab.kernel.accessAllowed ? 'block' : 'none';\n",
              "\n",
              "      async function convertToInteractive(key) {\n",
              "        const element = document.querySelector('#df-5d948a2c-f501-42b3-8eb3-3553efbc6f61');\n",
              "        const dataTable =\n",
              "          await google.colab.kernel.invokeFunction('convertToInteractive',\n",
              "                                                    [key], {});\n",
              "        if (!dataTable) return;\n",
              "\n",
              "        const docLinkHtml = 'Like what you see? Visit the ' +\n",
              "          '<a target=\"_blank\" href=https://colab.research.google.com/notebooks/data_table.ipynb>data table notebook</a>'\n",
              "          + ' to learn more about interactive tables.';\n",
              "        element.innerHTML = '';\n",
              "        dataTable['output_type'] = 'display_data';\n",
              "        await google.colab.output.renderOutput(dataTable, element);\n",
              "        const docLink = document.createElement('div');\n",
              "        docLink.innerHTML = docLinkHtml;\n",
              "        element.appendChild(docLink);\n",
              "      }\n",
              "    </script>\n",
              "  </div>\n",
              "\n",
              "\n",
              "<div id=\"df-a20e8ed2-ad35-4069-a2e1-f838889e0975\">\n",
              "  <button class=\"colab-df-quickchart\" onclick=\"quickchart('df-a20e8ed2-ad35-4069-a2e1-f838889e0975')\"\n",
              "            title=\"Suggest charts\"\n",
              "            style=\"display:none;\">\n",
              "\n",
              "<svg xmlns=\"http://www.w3.org/2000/svg\" height=\"24px\"viewBox=\"0 0 24 24\"\n",
              "     width=\"24px\">\n",
              "    <g>\n",
              "        <path d=\"M19 3H5c-1.1 0-2 .9-2 2v14c0 1.1.9 2 2 2h14c1.1 0 2-.9 2-2V5c0-1.1-.9-2-2-2zM9 17H7v-7h2v7zm4 0h-2V7h2v10zm4 0h-2v-4h2v4z\"/>\n",
              "    </g>\n",
              "</svg>\n",
              "  </button>\n",
              "\n",
              "<style>\n",
              "  .colab-df-quickchart {\n",
              "      --bg-color: #E8F0FE;\n",
              "      --fill-color: #1967D2;\n",
              "      --hover-bg-color: #E2EBFA;\n",
              "      --hover-fill-color: #174EA6;\n",
              "      --disabled-fill-color: #AAA;\n",
              "      --disabled-bg-color: #DDD;\n",
              "  }\n",
              "\n",
              "  [theme=dark] .colab-df-quickchart {\n",
              "      --bg-color: #3B4455;\n",
              "      --fill-color: #D2E3FC;\n",
              "      --hover-bg-color: #434B5C;\n",
              "      --hover-fill-color: #FFFFFF;\n",
              "      --disabled-bg-color: #3B4455;\n",
              "      --disabled-fill-color: #666;\n",
              "  }\n",
              "\n",
              "  .colab-df-quickchart {\n",
              "    background-color: var(--bg-color);\n",
              "    border: none;\n",
              "    border-radius: 50%;\n",
              "    cursor: pointer;\n",
              "    display: none;\n",
              "    fill: var(--fill-color);\n",
              "    height: 32px;\n",
              "    padding: 0;\n",
              "    width: 32px;\n",
              "  }\n",
              "\n",
              "  .colab-df-quickchart:hover {\n",
              "    background-color: var(--hover-bg-color);\n",
              "    box-shadow: 0 1px 2px rgba(60, 64, 67, 0.3), 0 1px 3px 1px rgba(60, 64, 67, 0.15);\n",
              "    fill: var(--button-hover-fill-color);\n",
              "  }\n",
              "\n",
              "  .colab-df-quickchart-complete:disabled,\n",
              "  .colab-df-quickchart-complete:disabled:hover {\n",
              "    background-color: var(--disabled-bg-color);\n",
              "    fill: var(--disabled-fill-color);\n",
              "    box-shadow: none;\n",
              "  }\n",
              "\n",
              "  .colab-df-spinner {\n",
              "    border: 2px solid var(--fill-color);\n",
              "    border-color: transparent;\n",
              "    border-bottom-color: var(--fill-color);\n",
              "    animation:\n",
              "      spin 1s steps(1) infinite;\n",
              "  }\n",
              "\n",
              "  @keyframes spin {\n",
              "    0% {\n",
              "      border-color: transparent;\n",
              "      border-bottom-color: var(--fill-color);\n",
              "      border-left-color: var(--fill-color);\n",
              "    }\n",
              "    20% {\n",
              "      border-color: transparent;\n",
              "      border-left-color: var(--fill-color);\n",
              "      border-top-color: var(--fill-color);\n",
              "    }\n",
              "    30% {\n",
              "      border-color: transparent;\n",
              "      border-left-color: var(--fill-color);\n",
              "      border-top-color: var(--fill-color);\n",
              "      border-right-color: var(--fill-color);\n",
              "    }\n",
              "    40% {\n",
              "      border-color: transparent;\n",
              "      border-right-color: var(--fill-color);\n",
              "      border-top-color: var(--fill-color);\n",
              "    }\n",
              "    60% {\n",
              "      border-color: transparent;\n",
              "      border-right-color: var(--fill-color);\n",
              "    }\n",
              "    80% {\n",
              "      border-color: transparent;\n",
              "      border-right-color: var(--fill-color);\n",
              "      border-bottom-color: var(--fill-color);\n",
              "    }\n",
              "    90% {\n",
              "      border-color: transparent;\n",
              "      border-bottom-color: var(--fill-color);\n",
              "    }\n",
              "  }\n",
              "</style>\n",
              "\n",
              "  <script>\n",
              "    async function quickchart(key) {\n",
              "      const quickchartButtonEl =\n",
              "        document.querySelector('#' + key + ' button');\n",
              "      quickchartButtonEl.disabled = true;  // To prevent multiple clicks.\n",
              "      quickchartButtonEl.classList.add('colab-df-spinner');\n",
              "      try {\n",
              "        const charts = await google.colab.kernel.invokeFunction(\n",
              "            'suggestCharts', [key], {});\n",
              "      } catch (error) {\n",
              "        console.error('Error during call to suggestCharts:', error);\n",
              "      }\n",
              "      quickchartButtonEl.classList.remove('colab-df-spinner');\n",
              "      quickchartButtonEl.classList.add('colab-df-quickchart-complete');\n",
              "    }\n",
              "    (() => {\n",
              "      let quickchartButtonEl =\n",
              "        document.querySelector('#df-a20e8ed2-ad35-4069-a2e1-f838889e0975 button');\n",
              "      quickchartButtonEl.style.display =\n",
              "        google.colab.kernel.accessAllowed ? 'block' : 'none';\n",
              "    })();\n",
              "  </script>\n",
              "</div>\n",
              "    </div>\n",
              "  </div>\n"
            ],
            "application/vnd.google.colaboratory.intrinsic+json": {
              "type": "dataframe",
              "variable_name": "df",
              "summary": "{\n  \"name\": \"df\",\n  \"rows\": 20491,\n  \"fields\": [\n    {\n      \"column\": \"Review\",\n      \"properties\": {\n        \"dtype\": \"string\",\n        \"num_unique_values\": 20491,\n        \"samples\": [\n          \"not recommend hotel did reviewers actually stay hotel did, good thing hotel location really close leidseplein, shared facilities filthy got, did not look toilet floor cleaned month, facilities not cleaned 3 days got, disgusting, staff rude complained left night early refused refund night, not recommend hotel,  \",\n          \"barcelona rocks, stayed hotel jazz girlfriend 3 nights end august.the hotel excellent location carrer pelai, close placa catalunya ramblas appreciate buzz city removed respite mayhem crowds, caught airport bus barcelona costs 7 euros person return trip, hotel located 2 mins walk maximum placa universitat stop 2nd route, hotel modern clean, air conditioning room superb balcony looking street outside, room good size, bathroom fine scrimp bit toiletries, bring shower gels unless consider washing unnecessary luxury travels.the downside hotel possibly strengths depending viewpoint, hotel superbly situated 2 different metro stations extremely handy need city sights, downside feel rumbling trains hotel 3rd floor located, worse incessant sound taxi horns hotel mela times square nyc ca n't say disturbed consideration light sleepers irritation, couple shops hotel useful snacks drinks want avoid minibar prices, pool roof tiny n't recommend booking pretty nice place kill time particularly check day just wanted sit chill, n't expect able sit night, shuts fairly early.the hotel excellent 3 star property suggest prices pretty 4 star level, aside hotel tourist bus stopped directly opposite room recommend good way getting overview timer city want possible different areas, think used barcelona tours continuous loop alternative bus turistic 3 different loops involves changing bus round different areas.see gaudi, no fan architecture means, parc guell worth visit nice day n't mind walking uphill, sagrada familia outstanding, couple boat tours port harbour, personally bit underwhelming, save time money things.the nou camp tour worth visit no fan football, stadium amazing history club fascinating, plans redevelopment spectacle completed.ignore negative websites sprung make barcelona akin early days wild west, n't, just sensible major city, read ludicrous claims mark target muggers/pickpockets wore shorts/looked map/did n't speak spanish, rubbish, area ramblas felt safe, couple areas lower end raval little seedy late night just n't stupid fine, worst crime encountered charged 10 euros 2 heinekens irish bar just ramblas heard no-one eats restaurants 9 suffer lack atmosphere did, did n't appear strictly true concede 3 nights, tell restaurants open 8-8.30pm worth getting avoid queues, saturday night arrived restaurant 8.30 offered seat terrace opting window seat overlooking ramblas, 9 turning people away, 9.45 taken pick tables, burst activity 9 n't bad.enjoy,  \",\n          \"ok hotel good location stayed night way beijing rawa island, hotel service room ok. location great shopping restaurants, probably stay, opinion nice 3 star hotel,  \"\n        ],\n        \"semantic_type\": \"\",\n        \"description\": \"\"\n      }\n    },\n    {\n      \"column\": \"Rating\",\n      \"properties\": {\n        \"dtype\": \"number\",\n        \"std\": 1,\n        \"min\": 1,\n        \"max\": 5,\n        \"num_unique_values\": 5,\n        \"samples\": [\n          2,\n          1,\n          3\n        ],\n        \"semantic_type\": \"\",\n        \"description\": \"\"\n      }\n    }\n  ]\n}"
            }
          },
          "metadata": {},
          "execution_count": 5
        }
      ]
    },
    {
      "cell_type": "code",
      "source": [
        "df['Rating'].value_counts()"
      ],
      "metadata": {
        "id": "2Bn90hV1F4UZ",
        "colab": {
          "base_uri": "https://localhost:8080/",
          "height": 272
        },
        "outputId": "d5606b93-993a-4aa3-9358-105cf46124b8"
      },
      "execution_count": 6,
      "outputs": [
        {
          "output_type": "execute_result",
          "data": {
            "text/plain": [
              "Rating\n",
              "5    9054\n",
              "4    6039\n",
              "3    2184\n",
              "2    1793\n",
              "1    1421\n",
              "Name: count, dtype: int64"
            ],
            "text/html": [
              "<div>\n",
              "<style scoped>\n",
              "    .dataframe tbody tr th:only-of-type {\n",
              "        vertical-align: middle;\n",
              "    }\n",
              "\n",
              "    .dataframe tbody tr th {\n",
              "        vertical-align: top;\n",
              "    }\n",
              "\n",
              "    .dataframe thead th {\n",
              "        text-align: right;\n",
              "    }\n",
              "</style>\n",
              "<table border=\"1\" class=\"dataframe\">\n",
              "  <thead>\n",
              "    <tr style=\"text-align: right;\">\n",
              "      <th></th>\n",
              "      <th>count</th>\n",
              "    </tr>\n",
              "    <tr>\n",
              "      <th>Rating</th>\n",
              "      <th></th>\n",
              "    </tr>\n",
              "  </thead>\n",
              "  <tbody>\n",
              "    <tr>\n",
              "      <th>5</th>\n",
              "      <td>9054</td>\n",
              "    </tr>\n",
              "    <tr>\n",
              "      <th>4</th>\n",
              "      <td>6039</td>\n",
              "    </tr>\n",
              "    <tr>\n",
              "      <th>3</th>\n",
              "      <td>2184</td>\n",
              "    </tr>\n",
              "    <tr>\n",
              "      <th>2</th>\n",
              "      <td>1793</td>\n",
              "    </tr>\n",
              "    <tr>\n",
              "      <th>1</th>\n",
              "      <td>1421</td>\n",
              "    </tr>\n",
              "  </tbody>\n",
              "</table>\n",
              "</div><br><label><b>dtype:</b> int64</label>"
            ]
          },
          "metadata": {},
          "execution_count": 6
        }
      ]
    },
    {
      "cell_type": "markdown",
      "source": [
        "# 2.Подготовьте данные к обучению - **1 балл**\n",
        "    - Разделите датасет на обучающую, валидационную и тестовую выборки со стратификацией в пропорции 60/20/20.\n",
        "    - Создайте `Dataset` и `DataLoader` для обучающей, валидационной и тестовой выборок. Выберите оптимальный, на ваш взгляд, `batch_size`."
      ],
      "metadata": {
        "id": "pzAKM9dmCzFp"
      }
    },
    {
      "cell_type": "code",
      "source": [
        "class TextDataWrapper(Dataset):\n",
        "    def __init__(self, reviews, ratings, tokenizer, max_length=128):\n",
        "        self.reviews = reviews\n",
        "        self.ratings = ratings\n",
        "        self.tokenizer = tokenizer\n",
        "        self.max_length = max_length\n",
        "\n",
        "    def __len__(self):\n",
        "        return len(self.reviews)\n",
        "\n",
        "    def __getitem__(self, idx):\n",
        "        review = str(self.reviews[idx])\n",
        "        rating = self.ratings[idx]\n",
        "\n",
        "        encoded = self.tokenizer.encode_plus(\n",
        "            review,\n",
        "            truncation=True,\n",
        "            max_length=self.max_length,\n",
        "            padding='max_length',\n",
        "            return_tensors='pt',\n",
        "            return_attention_mask=True\n",
        "        )\n",
        "\n",
        "        return {\n",
        "            'input_ids': encoded['input_ids'].squeeze(0),\n",
        "            'attention_mask': encoded['attention_mask'].squeeze(0),\n",
        "            'labels': torch.tensor(rating - 1, dtype=torch.long)\n",
        "        }"
      ],
      "metadata": {
        "id": "nQhI5_mSNPvX"
      },
      "execution_count": 7,
      "outputs": []
    },
    {
      "cell_type": "code",
      "execution_count": 8,
      "metadata": {
        "id": "bnAaJXb6CSNY",
        "colab": {
          "base_uri": "https://localhost:8080/"
        },
        "outputId": "7f678be9-79fe-4b75-ce14-d1532f0e6f13"
      },
      "outputs": [
        {
          "output_type": "stream",
          "name": "stderr",
          "text": [
            "/usr/local/lib/python3.11/dist-packages/huggingface_hub/utils/_auth.py:94: UserWarning: \n",
            "The secret `HF_TOKEN` does not exist in your Colab secrets.\n",
            "To authenticate with the Hugging Face Hub, create a token in your settings tab (https://huggingface.co/settings/tokens), set it as secret in your Google Colab and restart your session.\n",
            "You will be able to reuse this secret in all of your notebooks.\n",
            "Please note that authentication is recommended but still optional to access public models or datasets.\n",
            "  warnings.warn(\n"
          ]
        }
      ],
      "source": [
        "X = df['Review'].values\n",
        "y = df['Rating'].values\n",
        "\n",
        "X_train_val, X_test, y_train_val, y_test = train_test_split(X, y, test_size=0.2, stratify=y, random_state=42)\n",
        "X_train, X_val, y_train, y_val = train_test_split(X_train_val, y_train_val, test_size=0.2, stratify=y_train_val, random_state=42)\n",
        "\n",
        "tokenizer = BertTokenizer.from_pretrained('bert-base-uncased')\n",
        "\n",
        "train_dataset = TextDataWrapper(X_train, y_train, tokenizer)\n",
        "val_dataset = TextDataWrapper(X_val, y_val, tokenizer)\n",
        "test_dataset = TextDataWrapper(X_test, y_test, tokenizer)\n",
        "\n",
        "batch_size = 16\n",
        "train_loader = DataLoader(train_dataset, batch_size=batch_size, shuffle=True)\n",
        "val_loader = DataLoader(val_dataset, batch_size=batch_size)\n",
        "test_loader = DataLoader(test_dataset, batch_size=batch_size)"
      ]
    },
    {
      "cell_type": "markdown",
      "source": [
        "# 3.Реализуйте и обучите сверточную сеть (сеть с использованием слоев Conv1d) для решения задачи - **1 балл**"
      ],
      "metadata": {
        "id": "xDz1AyD_Cfox"
      }
    },
    {
      "cell_type": "code",
      "source": [
        "class ConvTextClassifier(nn.Module):\n",
        "    def __init__(self, vocab_size, embedding_dim, out_channel, num_classes):\n",
        "        super().__init__()\n",
        "        self.embedding = nn.Embedding(vocab_size, embedding_dim)\n",
        "        self.conv = nn.Conv1d(embedding_dim, out_channel, kernel_size=3)\n",
        "        self.relu = nn.ReLU()\n",
        "        self.linear = nn.Linear(out_channel, num_classes)\n",
        "\n",
        "    def forward(self, x):\n",
        "        output = self.embedding(x)\n",
        "        output = output.permute(0, 2, 1) # bs, emb_dim, len\n",
        "        output = self.conv(output)\n",
        "        output = self.relu(output)\n",
        "        output = torch.max(output, axis=2).values\n",
        "        output = self.linear(output)\n",
        "        return output"
      ],
      "metadata": {
        "id": "Xz9Wb3FWCkGe"
      },
      "execution_count": 9,
      "outputs": []
    },
    {
      "cell_type": "code",
      "source": [
        "def train_model(model, train_loader, val_loader, criterion, optimizer, f1, epochs):\n",
        "  list_train_epoch_loss, list_train_epoch_f1 = [], []\n",
        "  list_val_epoch_loss, list_val_epoch_f1 = [], []\n",
        "\n",
        "  for epoch in range(1,epochs+1):\n",
        "      print(f\"Train epoch {epoch}/{epochs}\")\n",
        "      model.train()\n",
        "      temp_loss, temp_metrics = [], []\n",
        "\n",
        "      for batch in train_loader:\n",
        "          optimizer.zero_grad()\n",
        "          data = batch['input_ids']\n",
        "          target = batch['labels']\n",
        "          output = model(data)\n",
        "          loss = criterion(output, target)\n",
        "          loss.backward()\n",
        "          optimizer.step()\n",
        "\n",
        "          temp_loss.append(loss.float().item())\n",
        "          temp_metrics.append(f1(output.argmax(1), target).item())\n",
        "\n",
        "      epoch_loss = np.array(temp_loss).mean()\n",
        "      list_train_epoch_loss.append(epoch_loss)\n",
        "      epoch_f1 = np.array(temp_metrics).mean()\n",
        "      list_train_epoch_f1.append(epoch_f1)\n",
        "      print(f'Loss train: {epoch_loss}, f1 score train: {epoch_f1}')\n",
        "\n",
        "      # Валидация\n",
        "      model.eval()\n",
        "      with torch.no_grad():\n",
        "        temp_loss, temp_metrics = [], []\n",
        "\n",
        "        for batch in val_loader:\n",
        "            data = batch['input_ids']\n",
        "            target = batch['labels']\n",
        "            output = model(data)\n",
        "            loss = criterion(output, target)\n",
        "\n",
        "            temp_loss.append(loss.float().item())\n",
        "            temp_metrics.append(f1(output.argmax(1), target).item())\n",
        "\n",
        "        epoch_loss = np.array(temp_loss).mean()\n",
        "        list_val_epoch_loss.append(epoch_loss)\n",
        "        epoch_f1 = np.array(temp_metrics).mean()\n",
        "        list_val_epoch_f1.append(epoch_f1)\n",
        "        print(f'Loss val: {epoch_loss}, f1 score val: {epoch_f1}')\n",
        "\n",
        "  return   list_train_epoch_loss, list_train_epoch_f1, list_val_epoch_loss, list_val_epoch_f1"
      ],
      "metadata": {
        "id": "dpcAfyfnabMS"
      },
      "execution_count": 10,
      "outputs": []
    },
    {
      "cell_type": "code",
      "source": [
        "epochs = 10\n",
        "\n",
        "model = ConvTextClassifier(vocab_size=tokenizer.vocab_size, embedding_dim=128, out_channel=256, num_classes=5)\n",
        "print(model)\n",
        "print(\"Parameters:\", sum([param.nelement() for param in model.parameters()]))\n",
        "\n",
        "f1 = F1Score(task=\"multiclass\", num_classes=5, average='macro')\n",
        "\n",
        "optimizer = torch.optim.Adam(model.parameters(), lr=1e-4, weight_decay=1e-5)\n",
        "criterion = nn.CrossEntropyLoss()\n",
        "\n",
        "cnn_res = train_model(model, train_loader, val_loader, criterion, optimizer, f1, epochs)"
      ],
      "metadata": {
        "colab": {
          "base_uri": "https://localhost:8080/"
        },
        "id": "PrqqR1EPM7av",
        "outputId": "b6ad588c-59da-415a-9fe0-0ca6245ec4a0"
      },
      "execution_count": 14,
      "outputs": [
        {
          "output_type": "stream",
          "name": "stdout",
          "text": [
            "ConvTextClassifier(\n",
            "  (embedding): Embedding(30522, 128)\n",
            "  (conv): Conv1d(128, 256, kernel_size=(3,), stride=(1,))\n",
            "  (relu): ReLU()\n",
            "  (linear): Linear(in_features=256, out_features=5, bias=True)\n",
            ")\n",
            "Parameters: 4006661\n",
            "Train epoch 1/10\n",
            "Loss train: 1.3026009551635602, f1 score train: 0.1891460835138654\n",
            "Loss val: 1.223457607118095, f1 score val: 0.21351350967477006\n",
            "Train epoch 2/10\n",
            "Loss train: 1.1195172235006239, f1 score train: 0.2934671823571368\n",
            "Loss val: 1.1085150805915274, f1 score val: 0.29533541289771476\n",
            "Train epoch 3/10\n",
            "Loss train: 0.9948017109458039, f1 score train: 0.40924083556889035\n",
            "Loss val: 1.031035472997805, f1 score val: 0.3728804451299877\n",
            "Train epoch 4/10\n",
            "Loss train: 0.8989087966157169, f1 score train: 0.4870908497310266\n",
            "Loss val: 0.9926695454411391, f1 score val: 0.387883755855444\n",
            "Train epoch 5/10\n",
            "Loss train: 0.8222558563075415, f1 score train: 0.5549562934513499\n",
            "Loss val: 0.947417171117736, f1 score val: 0.4119372753835306\n",
            "Train epoch 6/10\n",
            "Loss train: 0.7572542665935145, f1 score train: 0.6012632752882271\n",
            "Loss val: 0.9254580727437648, f1 score val: 0.4418974288353106\n",
            "Train epoch 7/10\n",
            "Loss train: 0.7000895749504973, f1 score train: 0.6414075024789426\n",
            "Loss val: 0.9085667914006769, f1 score val: 0.44018365726238345\n",
            "Train epoch 8/10\n",
            "Loss train: 0.6474598927832231, f1 score train: 0.686906935765249\n",
            "Loss val: 0.8944095755495676, f1 score val: 0.4418197182620444\n",
            "Train epoch 9/10\n",
            "Loss train: 0.5994459514210864, f1 score train: 0.722393374272236\n",
            "Loss val: 0.8874403857603306, f1 score val: 0.4537575895466456\n",
            "Train epoch 10/10\n",
            "Loss train: 0.5539524739471877, f1 score train: 0.7499255601225829\n",
            "Loss val: 0.8823468517966386, f1 score val: 0.4601975006301229\n"
          ]
        }
      ]
    },
    {
      "cell_type": "markdown",
      "source": [
        "# 4.Реализуйте и обучите рекуррентную сеть (сеть с использованием LSTM-слоя) для решения задачи - **1 балл**"
      ],
      "metadata": {
        "id": "C1GUnvBCClat"
      }
    },
    {
      "cell_type": "code",
      "source": [
        "class LSTMTextClassifier(nn.Module):\n",
        "    def __init__(self, vocab_size, embedding_dim, hidden_size, num_classes):\n",
        "        super().__init__()\n",
        "        self.embedding = nn.Embedding(vocab_size, embedding_dim)\n",
        "        self.lstm = nn.LSTM(embedding_dim, hidden_size, batch_first=True)\n",
        "        self.linear = nn.Linear(hidden_size, num_classes)\n",
        "\n",
        "    def forward(self, x):\n",
        "        x = self.embedding(x)\n",
        "        output, _ = self.lstm(x)\n",
        "        output = self.linear(output[:, -1, :])\n",
        "        return output"
      ],
      "metadata": {
        "id": "47auGWGeCnpa"
      },
      "execution_count": 11,
      "outputs": []
    },
    {
      "cell_type": "code",
      "source": [
        "epochs = 10\n",
        "\n",
        "model = LSTMTextClassifier(vocab_size=tokenizer.vocab_size, embedding_dim=128, hidden_size=256, num_classes=5)\n",
        "print(model)\n",
        "print(\"Parameters:\", sum([param.nelement() for param in model.parameters()]))\n",
        "\n",
        "f1 = F1Score(task=\"multiclass\", num_classes=5, average='macro')\n",
        "\n",
        "optimizer = torch.optim.Adam(model.parameters(), lr=1e-4, weight_decay=1e-5)\n",
        "criterion = nn.CrossEntropyLoss()\n",
        "\n",
        "lstm_res = train_model(model, train_loader, val_loader, criterion, optimizer, f1, epochs)"
      ],
      "metadata": {
        "colab": {
          "base_uri": "https://localhost:8080/"
        },
        "id": "OlEs8yYsu8Al",
        "outputId": "b004b37b-1032-4e4c-8adc-4edb2f3040cd"
      },
      "execution_count": 12,
      "outputs": [
        {
          "output_type": "stream",
          "name": "stdout",
          "text": [
            "LSTMTextClassifier(\n",
            "  (embedding): Embedding(30522, 128)\n",
            "  (lstm): LSTM(128, 256, batch_first=True)\n",
            "  (linear): Linear(in_features=256, out_features=5, bias=True)\n",
            ")\n",
            "Parameters: 4303365\n",
            "Train epoch 1/10\n",
            "Loss train: 1.3606744467485241, f1 score train: 0.14845030691656397\n",
            "Loss val: 1.3505548721406517, f1 score val: 0.14649201869601156\n",
            "Train epoch 2/10\n",
            "Loss train: 1.3511306789590092, f1 score train: 0.14949845216668597\n",
            "Loss val: 1.3516874127271699, f1 score val: 0.161218078270918\n",
            "Train epoch 3/10\n",
            "Loss train: 1.3462033303772531, f1 score train: 0.15875629546211623\n",
            "Loss val: 1.3460797205203916, f1 score val: 0.16122052446007729\n",
            "Train epoch 4/10\n",
            "Loss train: 1.3267038263198807, f1 score train: 0.17565059445616676\n",
            "Loss val: 1.342131984815365, f1 score val: 0.17520717816745363\n",
            "Train epoch 5/10\n",
            "Loss train: 1.3012549880074291, f1 score train: 0.2132402730583236\n",
            "Loss val: 1.304109177356813, f1 score val: 0.20145010250370676\n",
            "Train epoch 6/10\n",
            "Loss train: 1.2489084434218523, f1 score train: 0.24077302245196047\n",
            "Loss val: 1.3527190714347652, f1 score val: 0.22831388686488313\n",
            "Train epoch 7/10\n",
            "Loss train: 1.2253679077799726, f1 score train: 0.2573357275709873\n",
            "Loss val: 1.2416047125327878, f1 score val: 0.2599400065294126\n",
            "Train epoch 8/10\n",
            "Loss train: 1.2370639742874519, f1 score train: 0.2606719789981115\n",
            "Loss val: 1.2197579857779712, f1 score val: 0.26507548971510514\n",
            "Train epoch 9/10\n",
            "Loss train: 1.2099262924456016, f1 score train: 0.2766498096741554\n",
            "Loss val: 1.2678493674208478, f1 score val: 0.25589697081141355\n",
            "Train epoch 10/10\n",
            "Loss train: 1.1970649208237485, f1 score train: 0.29111675080820554\n",
            "Loss val: 1.247504748658436, f1 score val: 0.2593683395443893\n"
          ]
        }
      ]
    },
    {
      "cell_type": "markdown",
      "source": [
        "# 5.Сравните между собой метрики и динамику обучения обеих моделей - **1 балл**\n",
        "\n",
        "**Общее**\n",
        "\n",
        "Обеспечена воспроизводимость решения: зафиксированы random_state, ноутбук воспроизводится от начала до конца без ошибок - **1 балл**"
      ],
      "metadata": {
        "id": "pk4sbbbNCoHE"
      }
    },
    {
      "cell_type": "code",
      "source": [
        "plt.plot(cnn_res[0], label='CNN train loss')\n",
        "plt.plot(cnn_res[2], label='CNN val loss')\n",
        "plt.plot(lstm_res[0], label='LSTM train loss')\n",
        "plt.plot(lstm_res[2], label='LSTM val loss')\n",
        "plt.title('CNN & LSTM loss')\n",
        "plt.xlabel('Epoch')\n",
        "plt.ylabel('Loss')\n",
        "plt.grid(True)\n",
        "\n",
        "plt.legend()\n",
        "plt.tight_layout()\n",
        "plt.show()"
      ],
      "metadata": {
        "id": "pCeUMXTmZg8x",
        "colab": {
          "base_uri": "https://localhost:8080/",
          "height": 487
        },
        "outputId": "5e270efb-2eb3-47d3-c07e-6d97fc5ab62e"
      },
      "execution_count": 26,
      "outputs": [
        {
          "output_type": "display_data",
          "data": {
            "text/plain": [
              "<Figure size 640x480 with 1 Axes>"
            ],
            "image/png": "[encoded data removed]"
          },
          "metadata": {}
        }
      ]
    },
    {
      "cell_type": "code",
      "source": [
        "plt.plot(cnn_res[1], label='CNN Train f1')\n",
        "plt.plot(cnn_res[3], label='CNN Val f1')\n",
        "plt.plot(lstm_res[1], label='LSTM Train f1')\n",
        "plt.plot(lstm_res[3], label='LSTM Val f1')\n",
        "plt.title('CNN & LSTM f1 Score')\n",
        "plt.xlabel('Epoch')\n",
        "plt.ylabel('F1 Score')\n",
        "plt.grid(True)\n",
        "\n",
        "plt.legend()\n",
        "plt.tight_layout()\n",
        "plt.show()"
      ],
      "metadata": {
        "colab": {
          "base_uri": "https://localhost:8080/",
          "height": 487
        },
        "id": "9JDb1zm-Da_r",
        "outputId": "3dbe3106-92bc-4fa9-908b-269f31761738"
      },
      "execution_count": 27,
      "outputs": [
        {
          "output_type": "display_data",
          "data": {
            "text/plain": [
              "<Figure size 640x480 with 1 Axes>"
            ],
            "image/png": "[encoded data removed]"
          },
          "metadata": {}
        }
      ]
    },
    {
      "cell_type": "markdown",
      "source": [
        "Вывод:\n",
        "\n",
        "**CNN**:\n",
        "\n",
        "Видим что модель довольно быстро начинает переобучаться => можно поробовать, например:\n",
        "1. лучше подбирать гиперпараметры\n",
        "2. использовать более сложную архитектуру модели (напр. использовать больше слоёв)\n",
        "3. использовать больше данных для обучения\n",
        "\n",
        "**LSTM**:\n",
        "\n",
        "LSTM модели требудется намного больше эпох для обучения чем для CNN, в данном случае также видим что 10 эпох недостаточно. Также видим что loss стабильно снижается, а f1 растёт, что хорошо"
      ],
      "metadata": {
        "id": "xzXdTYadZSw8"
      }
    },
    {
      "cell_type": "code",
      "source": [],
      "metadata": {
        "id": "3-GQDkmGaESm"
      },
      "execution_count": null,
      "outputs": []
    }
  ]
}